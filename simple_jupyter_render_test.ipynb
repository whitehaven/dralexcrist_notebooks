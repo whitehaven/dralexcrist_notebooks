{
 "cells": [
  {
   "cell_type": "code",
   "execution_count": 1,
   "metadata": {},
   "outputs": [],
   "source": [
    "import numpy as np"
   ]
  },
  {
   "cell_type": "code",
   "execution_count": 2,
   "metadata": {},
   "outputs": [
    {
     "data": {
      "text/plain": [
       "array([-1.20808971, -0.26252586,  0.71983607,  1.93495315,  0.30510988,\n",
       "       -1.56977718, -0.46506268, -0.08812531,  0.98201508,  0.46041984,\n",
       "        0.77289065,  0.88119684,  0.234231  , -0.19256007, -1.35873118,\n",
       "       -0.15544132,  0.47978829, -2.48692746,  1.79580198, -0.05046401,\n",
       "       -1.86515899, -0.54431915,  0.34796445,  1.10387931, -0.80955878,\n",
       "        1.66342584,  1.36089754,  0.84217237,  0.54169272,  1.26188664])"
      ]
     },
     "execution_count": 2,
     "metadata": {},
     "output_type": "execute_result"
    }
   ],
   "source": [
    "np.random.normal(loc=0, scale=1.0, size=30)"
   ]
  },
  {
   "cell_type": "code",
   "execution_count": null,
   "metadata": {},
   "outputs": [],
   "source": []
  }
 ],
 "metadata": {
  "kernelspec": {
   "display_name": "Python 3",
   "language": "python",
   "name": "python3"
  },
  "language_info": {
   "codemirror_mode": {
    "name": "ipython",
    "version": 3
   },
   "file_extension": ".py",
   "mimetype": "text/x-python",
   "name": "python",
   "nbconvert_exporter": "python",
   "pygments_lexer": "ipython3",
   "version": "3.7.6"
  }
 },
 "nbformat": 4,
 "nbformat_minor": 4
}
